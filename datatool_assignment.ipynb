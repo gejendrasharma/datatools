{
 "cells": [
  {
   "cell_type": "code",
   "execution_count": 5,
   "id": "84393fea-5c47-44e9-b2c4-cf4125878d85",
   "metadata": {},
   "outputs": [
    {
     "name": "stdout",
     "output_type": "stream",
     "text": [
      "Requirement already satisfied: pandas in c:\\users\\gajen\\appdata\\local\\programs\\python\\python313\\lib\\site-packages (2.2.3)\n",
      "Requirement already satisfied: numpy>=1.26.0 in c:\\users\\gajen\\appdata\\local\\programs\\python\\python313\\lib\\site-packages (from pandas) (2.1.3)\n",
      "Requirement already satisfied: python-dateutil>=2.8.2 in c:\\users\\gajen\\appdata\\roaming\\python\\python313\\site-packages (from pandas) (2.9.0.post0)\n",
      "Requirement already satisfied: pytz>=2020.1 in c:\\users\\gajen\\appdata\\local\\programs\\python\\python313\\lib\\site-packages (from pandas) (2024.2)\n",
      "Requirement already satisfied: tzdata>=2022.7 in c:\\users\\gajen\\appdata\\local\\programs\\python\\python313\\lib\\site-packages (from pandas) (2024.2)\n",
      "Requirement already satisfied: six>=1.5 in c:\\users\\gajen\\appdata\\roaming\\python\\python313\\site-packages (from python-dateutil>=2.8.2->pandas) (1.16.0)\n",
      "Requirement already satisfied: numpy in c:\\users\\gajen\\appdata\\local\\programs\\python\\python313\\lib\\site-packages (2.1.3)\n"
     ]
    }
   ],
   "source": [
    "!pip install pandas\n",
    "!pip install numpy"
   ]
  },
  {
   "cell_type": "code",
   "execution_count": 6,
   "id": "5d1b41ae-5a0b-499e-afcc-0f629a1bf542",
   "metadata": {},
   "outputs": [],
   "source": [
    "import numpy as np\n",
    "import pandas as pd"
   ]
  },
  {
   "cell_type": "markdown",
   "id": "93913e8a-e0ba-4ac8-aa30-0ba97092ecf8",
   "metadata": {},
   "source": [
    "                                         Theortical Questions"
   ]
  },
  {
   "cell_type": "markdown",
   "id": "73319385-e172-4af8-ae68-565dcdfe1d33",
   "metadata": {},
   "source": [
    "Q1. Explain the purpose and advantages of NumPy in scientific computing and data analysis. How does it\n",
    "enhance Python's capabilities for numerical operations?"
   ]
  },
  {
   "cell_type": "markdown",
   "id": "92156916-b41c-4261-8724-c7645221ad1d",
   "metadata": {},
   "source": [
    "Ans>>NumPy is a powerful library in Python designed for numerical computing and data analysis. Its primary purpose is to provide support for large, multi-dimensional arrays and matrices, along with a collection of mathematical functions to operate on these arrays efficiently.\n"
   ]
  },
  {
   "cell_type": "markdown",
   "id": "3ed7d729-6a7f-402e-b1d3-b352f75ec6bb",
   "metadata": {},
   "source": [
    "Key Advantages of NumPy:\n",
    "\n",
    "1.Performance\n",
    "\n",
    "2.Memory Efficiency\n",
    "\n",
    "3.Rich Functionality\n",
    "\n",
    "4.Interoperability\n",
    "\n",
    "5.e of Use"
   ]
  },
  {
   "cell_type": "markdown",
   "id": "027e9a62-b872-45e8-97d7-8ce100430511",
   "metadata": {},
   "source": [
    "Enhancements to Python's Numerical Capabilities:\n",
    "\n",
    "N-dimensional Arrays (ndarray):\n",
    "\n",
    "The core data structure in NumPy is the ndarray, which allows for the creation and manipulation of multi-dimensional arrays. This capability is essential for handling large datasets in scientific computing.\n",
    "\n",
    "Vectorization and Broadcasting:\n",
    "\n",
    "NumPy supports vectorized operations, which eliminate the need for explicit loops, making the code cleaner and faster. Broadcasting allows for operations between arrays of different shapes, enabling flexible computations.\n",
    "\n",
    "Universal Functions (ufuncs):\n",
    "\n",
    "NumPy includes a set of universal functions that operate element-wise on arrays, providing a wide range of mathematical operations that can be applied efficiently.\n",
    "\n",
    "Advanced Indexing and Slicing:\n",
    "\n",
    "NumPy allows for sophisticated indexing and slicing techniques, enabling users to access and manipulate subsets of data easily."
   ]
  },
  {
   "cell_type": "markdown",
   "id": "24a33bbd-155c-4f07-a510-185ffdc18454",
   "metadata": {},
   "source": [
    "Q2>>. Compare and contrast np.mean() and np.average() functions in NumPy. When would you use one over the\n",
    "other?"
   ]
  },
  {
   "cell_type": "markdown",
   "id": "9989036b-be39-4a12-952f-89fddfaf0ee3",
   "metadata": {},
   "source": [
    "np.mean()>>\n",
    "\n",
    "Purpose:\n",
    "Computes the arithmetic mean (average) of the elements in an array."
   ]
  },
  {
   "cell_type": "code",
   "execution_count": 10,
   "id": "79aca747-4d25-4c59-aa29-553beaeac92c",
   "metadata": {},
   "outputs": [
    {
     "data": {
      "text/plain": [
       "np.float64(4.5)"
      ]
     },
     "execution_count": 10,
     "metadata": {},
     "output_type": "execute_result"
    }
   ],
   "source": [
    "a=[1,2,3,4,5,6,7,8]\n",
    "np.mean(a)"
   ]
  },
  {
   "cell_type": "markdown",
   "id": "904c9c77-f811-4a34-93b0-1e63cef95db1",
   "metadata": {},
   "source": [
    "np.average()\n",
    "\n",
    "Purpose:\n",
    "Computes the weighted average of the elements in an array. If no weights are provided, it behaves like np.mean()."
   ]
  },
  {
   "cell_type": "code",
   "execution_count": 12,
   "id": "953a2c28-c5d1-423e-b819-fb527ff7e0e6",
   "metadata": {},
   "outputs": [
    {
     "data": {
      "text/plain": [
       "np.float64(4.5)"
      ]
     },
     "execution_count": 12,
     "metadata": {},
     "output_type": "execute_result"
    }
   ],
   "source": [
    "np.average(a)"
   ]
  },
  {
   "cell_type": "markdown",
   "id": "91eff106-4ef7-4e27-8221-9c0771b13e8e",
   "metadata": {},
   "source": [
    "Q3>>. Describe the methods for reversing a NumPy array along different axes. Provide examples for 1D and 2D\n",
    "arrays."
   ]
  },
  {
   "cell_type": "markdown",
   "id": "f4b5788c-875c-4690-adde-8d70ffd17f15",
   "metadata": {},
   "source": [
    "Reversing a 1D Array>>\n",
    "\n",
    "For a 1D array, you can reverse the array using slicing. The syntax for reversing is array[::-1], which means \"take all elements in reverse order.\""
   ]
  },
  {
   "cell_type": "code",
   "execution_count": 13,
   "id": "8a9bedd0-da34-4ae8-8819-46445d446984",
   "metadata": {},
   "outputs": [
    {
     "name": "stdout",
     "output_type": "stream",
     "text": [
      "Original 1D array: [1 2 3 4 5]\n",
      "Reversed 1D array: [5 4 3 2 1]\n"
     ]
    }
   ],
   "source": [
    "import numpy as np\n",
    "\n",
    "# Create a 1D array\n",
    "arr_1d = np.array([1, 2, 3, 4, 5])\n",
    "\n",
    "# Reverse the 1D array\n",
    "reversed_arr_1d = arr_1d[::-1]\n",
    "\n",
    "print(\"Original 1D array:\", arr_1d)\n",
    "print(\"Reversed 1D array:\", reversed_arr_1d)"
   ]
  },
  {
   "cell_type": "markdown",
   "id": "1604bf2d-7d49-48a9-a587-d1508d028f43",
   "metadata": {},
   "source": [
    "Reversing a 2D Array>>\n",
    "\n",
    "For a 2D array, you can reverse the array along different axes using slicing. You can specify the axis along which to reverse the array."
   ]
  },
  {
   "cell_type": "code",
   "execution_count": 14,
   "id": "fc5f33e8-6ddc-44b1-9509-c4fd01be45af",
   "metadata": {},
   "outputs": [
    {
     "name": "stdout",
     "output_type": "stream",
     "text": [
      "Reversed along the first axis (rows):\n",
      "[[7 8 9]\n",
      " [4 5 6]\n",
      " [1 2 3]]\n",
      "\n",
      "Reversed along the second axis (columns):\n",
      "[[3 2 1]\n",
      " [6 5 4]\n",
      " [9 8 7]]\n",
      "\n",
      "Reversed along both axes:\n",
      "[[9 8 7]\n",
      " [6 5 4]\n",
      " [3 2 1]]\n"
     ]
    }
   ],
   "source": [
    "# Create a 2D array\n",
    "arr_2d = np.array([[1, 2, 3],\n",
    "                   [4, 5, 6],\n",
    "                   [7, 8, 9]])\n",
    "\n",
    "# Reverse along the first axis (rows)\n",
    "reversed_rows = arr_2d[::-1, :]\n",
    "print(\"Reversed along the first axis (rows):\")\n",
    "print(reversed_rows)\n",
    "\n",
    "# Reverse along the second axis (columns)\n",
    "reversed_columns = arr_2d[:, ::-1]\n",
    "print(\"\\nReversed along the second axis (columns):\")\n",
    "print(reversed_columns)\n",
    "\n",
    "# Reverse along both axes\n",
    "reversed_both = arr_2d[::-1, ::-1]\n",
    "print(\"\\nReversed along both axes:\")\n",
    "print(reversed_both)"
   ]
  },
  {
   "cell_type": "markdown",
   "id": "df281960-8d05-4f84-8cfc-549c96d39c2e",
   "metadata": {},
   "source": [
    "Q4>>4. How can you determine the data type of elements in a NumPy array? Discuss the importance of data types\n",
    "in memory management and performance."
   ]
  },
  {
   "cell_type": "markdown",
   "id": "b83c2a4d-e557-46fd-889f-169ecc9e8bdf",
   "metadata": {},
   "source": [
    "In NumPy, you can determine the data type of elements in an array using the .dtype attribute of the NumPy array. This attribute returns a NumPy data type object that describes the type of the elements contained in the array."
   ]
  },
  {
   "cell_type": "code",
   "execution_count": 15,
   "id": "1995f6cf-8839-4f32-9e92-d598572b707b",
   "metadata": {},
   "outputs": [
    {
     "name": "stdout",
     "output_type": "stream",
     "text": [
      "Data type of the array elements: int64\n"
     ]
    }
   ],
   "source": [
    "import numpy as np\n",
    "\n",
    "# Create a NumPy array\n",
    "arr = np.array([1, 2, 3, 4, 5])\n",
    "data_type = arr.dtype\n",
    "\n",
    "print(\"Data type of the array elements:\", data_type)"
   ]
  },
  {
   "cell_type": "markdown",
   "id": "d653d4d6-9126-43af-bbbc-c9446f655410",
   "metadata": {},
   "source": [
    "Q5>> Define ndarrays in NumPy and explain their key features. How do they differ from standard Python lists?"
   ]
  },
  {
   "cell_type": "markdown",
   "id": "2c7600e2-83a1-41f2-8fee-9f5b2cc1d921",
   "metadata": {},
   "source": [
    "Key Features of ndarrays\n",
    "Homogeneous Data Types:\n",
    "\n",
    "All elements in a NumPy array must be of the same data type (e.g., all integers, all floats). This uniformity allows for optimized memory usage and performance.\n",
    "\n",
    "Multi-dimensional:\n",
    "\n",
    "ndarrays can have any number of dimensions (1D, 2D, 3D, etc.). The number of dimensions is referred to as the \"rank\" of the array. For example, a 1D array is a vector, a 2D array is a matrix, and a 3D array can represent a tensor.\n",
    "\n",
    "Efficient Memory Layout:\n",
    "\n",
    "NumPy arrays are stored in contiguous blocks of memory, which allows for efficient access and manipulation of data. This is in contrast to Python lists, which can store elements in non-contiguous memory locations.\n",
    "\n",
    "Vectorized Operations:\n",
    "\n",
    "NumPy supports element-wise operations on arrays, allowing for efficient mathematical computations without the need for explicit loops. This feature is known as \"vectorization\" and leads to more concise and faster code.\n",
    "\n",
    "Broadcasting:\n",
    "\n",
    "NumPy arrays support broadcasting, which allows operations between arrays of different shapes. This feature enables automatic expansion of smaller arrays to match the shape of larger arrays during arithmetic operations.\n",
    "\n"
   ]
  },
  {
   "cell_type": "markdown",
   "id": "48141aa0-1211-48d4-86ad-c90eb0e40629",
   "metadata": {},
   "source": [
    "coclusion>>NumPy's ndarrays are a fundamental component of the library, providing a powerful and efficient way to handle numerical data. Their homogeneous nature, support for multi-dimensional arrays, and optimized performance make them superior to standard Python lists for numerical computations. Understanding these differences is crucial for leveraging the full potential of NumPy in scientific computing and data analysis."
   ]
  },
  {
   "cell_type": "markdown",
   "id": "668887e0-adb2-4870-ac9c-1a06c4523c78",
   "metadata": {},
   "source": [
    "Q6>>Analyze the performance benefits of NumPy arrays over Python lists for large-scale numerical operations."
   ]
  },
  {
   "cell_type": "markdown",
   "id": "9e4905f0-1a41-470b-ae62-f0f553f799e9",
   "metadata": {},
   "source": [
    "1. Memory Layout and Contiguous Storage\n",
    "   \n",
    "NumPy arrays store elements in contiguous blocks of memory, which allows for efficient access and manipulation of data. In contrast, Python lists store elements in non-contiguous memory locations, leading to slower access times.\n",
    "\n",
    "2. Vectorized Operations\n",
    "   \n",
    "NumPy arrays support vectorized operations, which enable element-wise operations on entire arrays without the need for explicit loops. This leads to significant performance improvements for large-scale numerical operations.\n",
    "\n",
    "\n",
    "3. Optimized Algorithms and BLAS Integration\n",
    "   \n",
    "Performance Benefit: NumPy arrays can perform linear algebra operations up to 10-100 times faster than Python lists due to their optimized algorithms and BLAS integration.\n",
    "\n",
    "4. Cache Efficiency\n",
    "   \n",
    "Performance Benefit: NumPy arrays can reduce cache misses by up to 90% compared to Python lists, leading to significant performance improvements.\n",
    "\n"
   ]
  },
  {
   "cell_type": "code",
   "execution_count": 16,
   "id": "36b85dbe-2988-4269-928c-157eef5f077c",
   "metadata": {},
   "outputs": [
    {
     "name": "stdout",
     "output_type": "stream",
     "text": [
      "Python list time: 0.07716059684753418\n",
      "NumPy array time: 0.01501154899597168\n"
     ]
    }
   ],
   "source": [
    "import numpy as np\n",
    "import time\n",
    "\n",
    "# Create a large Python list and NumPy array\n",
    "python_list = [i for i in range(1000000)]\n",
    "numpy_array = np.arange(1000000)\n",
    "\n",
    "# Measure the time taken for element-wise operations\n",
    "start_time = time.time()\n",
    "result_list = [x * 2 for x in python_list]\n",
    "end_time = time.time()\n",
    "print(\"Python list time:\", end_time - start_time)\n",
    "\n",
    "start_time = time.time()\n",
    "result_array = numpy_array * 2\n",
    "end_time = time.time()\n",
    "print(\"NumPy array time:\", end_time - start_time)"
   ]
  },
  {
   "cell_type": "markdown",
   "id": "ca9660f8-088e-4451-b4e2-d676e62df575",
   "metadata": {},
   "source": [
    "Q7>>7. Compare vstack() and hstack() functions in NumPy. Provide examples demonstrating their usage and\n",
    "output."
   ]
  },
  {
   "cell_type": "markdown",
   "id": "6dabb776-8507-48c4-966b-9f9a72f05725",
   "metadata": {},
   "source": [
    "vstack>>\n",
    "\n",
    "vstack() is used to stack arrays on top of each other, resulting in a new array with increased row dimensionality. This function is useful when you need to combine multiple arrays with the same number of columns."
   ]
  },
  {
   "cell_type": "code",
   "execution_count": 17,
   "id": "97d28e39-a488-4300-994c-b68e4f6f8220",
   "metadata": {},
   "outputs": [
    {
     "name": "stdout",
     "output_type": "stream",
     "text": [
      "[[1 2 3]\n",
      " [4 5 6]]\n"
     ]
    }
   ],
   "source": [
    "import numpy as np\n",
    "\n",
    "# Create two arrays\n",
    "array1 = np.array([1, 2, 3])\n",
    "array2 = np.array([4, 5, 6])\n",
    "\n",
    "# Stack arrays vertically\n",
    "stacked_array = np.vstack((array1, array2))\n",
    "\n",
    "print(stacked_array)"
   ]
  },
  {
   "cell_type": "markdown",
   "id": "0fcf4321-4c51-4528-a6d5-862ab4a97524",
   "metadata": {},
   "source": [
    "hstack() >>\n",
    "\n",
    "hstack() is used to stack arrays side by side, resulting in a new array with increased column dimensionality. This function is useful when you need to combine multiple arrays with the same number of rows."
   ]
  },
  {
   "cell_type": "code",
   "execution_count": 18,
   "id": "f31a057b-e60b-4113-9db2-1a10122d1c32",
   "metadata": {},
   "outputs": [
    {
     "name": "stdout",
     "output_type": "stream",
     "text": [
      "[1 2 3 4 5 6]\n"
     ]
    }
   ],
   "source": [
    "import numpy as np\n",
    "\n",
    "# Create two arrays\n",
    "array1 = np.array([1, 2, 3])\n",
    "array2 = np.array([4, 5, 6])\n",
    "\n",
    "# Stack arrays horizontally\n",
    "stacked_array = np.hstack((array1, array2))\n",
    "\n",
    "print(stacked_array)"
   ]
  },
  {
   "cell_type": "markdown",
   "id": "e05691a1-2e9c-4cbc-99f8-70947e775f9e",
   "metadata": {},
   "source": [
    "Q8>>Explain the differences between fliplr() and flipud() methods in NumPy, including their effects on various\n",
    "array dimensions."
   ]
  },
  {
   "cell_type": "markdown",
   "id": "739969dd-32fe-4aeb-94ad-45548217ede5",
   "metadata": {},
   "source": [
    "fliplr() Method:\n",
    "\n",
    "The fliplr() method flips an array horizontally, i.e., it reverses the order of elements along the last axis (axis=-1). This method is useful when you need to mirror an array around its vertical axis."
   ]
  },
  {
   "cell_type": "code",
   "execution_count": 19,
   "id": "6bf565f9-b2af-4aa3-bcaa-ce6b44c2c769",
   "metadata": {},
   "outputs": [
    {
     "name": "stdout",
     "output_type": "stream",
     "text": [
      "[[3 2 1]\n",
      " [6 5 4]]\n"
     ]
    }
   ],
   "source": [
    "import numpy as np\n",
    "\n",
    "# Create a 2D array\n",
    "array = np.array([[1, 2, 3], [4, 5, 6]])\n",
    "\n",
    "# Flip the array horizontally\n",
    "flipped_array = np.fliplr(array)\n",
    "\n",
    "print(flipped_array)\n"
   ]
  },
  {
   "cell_type": "markdown",
   "id": "33da2305-e958-46f5-96d4-38fe0c5ad733",
   "metadata": {},
   "source": [
    "flipud() Method:\n",
    "\n",
    "The flipud() method flips an array vertically, i.e., it reverses the order of elements along the first axis (axis=0). This method is useful when you need to mirror an array around its horizontal axis."
   ]
  },
  {
   "cell_type": "code",
   "execution_count": 20,
   "id": "cfa22e66-c30c-4dc0-9c77-e1e8ba377b92",
   "metadata": {},
   "outputs": [
    {
     "name": "stdout",
     "output_type": "stream",
     "text": [
      "[[4 5 6]\n",
      " [1 2 3]]\n"
     ]
    }
   ],
   "source": [
    "import numpy as np\n",
    "\n",
    "# Create a 2D array\n",
    "array = np.array([[1, 2, 3], [4, 5, 6]])\n",
    "\n",
    "# Flip the array vertically\n",
    "flipped_array = np.flipud(array)\n",
    "\n",
    "print(flipped_array)"
   ]
  },
  {
   "cell_type": "markdown",
   "id": "5be9c61f-d874-4454-abb6-14b8b1cdf59c",
   "metadata": {},
   "source": [
    "Q9.>> Discuss the functionality of the array_split() method in NumPy. How does it handle uneven splits?"
   ]
  },
  {
   "cell_type": "markdown",
   "id": "e82a92c5-2467-4bf5-83a2-9b60d65fbb08",
   "metadata": {},
   "source": [
    "The array_split() method in NumPy is used to split an array into sub-arrays along a specified axis. This method is useful when you need to divide an array into smaller chunks, such as when processing large datasets in parallel."
   ]
  },
  {
   "cell_type": "code",
   "execution_count": 24,
   "id": "acc20a95-2371-466c-b512-a9da3fd9d6cd",
   "metadata": {},
   "outputs": [
    {
     "name": "stdout",
     "output_type": "stream",
     "text": [
      "[array([1, 2, 3]), array([4, 5, 6]), array([7, 8, 9])]\n"
     ]
    }
   ],
   "source": [
    "\n",
    "import numpy as np\n",
    "\n",
    "# Create a 1D array\n",
    "array = np.array([1, 2, 3, 4, 5, 6, 7, 8, 9])\n",
    "\n",
    "# Split the array into 3 sections\n",
    "sub_arrays = np.array_split(array, 3)\n",
    "\n",
    "print(sub_arrays)"
   ]
  },
  {
   "cell_type": "markdown",
   "id": "7070b524-276b-408f-88b9-cce2c96d03c5",
   "metadata": {},
   "source": [
    "Q10>>Explain the concepts of vectorization and broadcasting in NumPy. How do they contribute to efficient array\n",
    "operations?"
   ]
  },
  {
   "cell_type": "markdown",
   "id": "1997ba5c-d78f-4902-94f0-09c770d155ec",
   "metadata": {},
   "source": [
    "Vectorization:\n",
    "\n",
    "Vectorization is the process of performing operations on entire arrays at once, rather than iterating over individual elements. This is achieved by using NumPy's built-in functions and operators, which are designed to work with arrays."
   ]
  },
  {
   "cell_type": "code",
   "execution_count": 25,
   "id": "502f6b4a-5620-4e21-aa53-1db370a5499a",
   "metadata": {},
   "outputs": [
    {
     "name": "stdout",
     "output_type": "stream",
     "text": [
      "[ 7  9 11 13 15]\n"
     ]
    }
   ],
   "source": [
    "import numpy as np\n",
    "\n",
    "# Create two arrays\n",
    "array1 = np.array([1, 2, 3, 4, 5])\n",
    "array2 = np.array([6, 7, 8, 9, 10])\n",
    "\n",
    "# Perform element-wise addition using vectorization\n",
    "result = array1 + array2\n",
    "\n",
    "print(result)"
   ]
  },
  {
   "cell_type": "markdown",
   "id": "8d1153b7-3194-46bb-860e-71e00b0d8229",
   "metadata": {},
   "source": [
    "Broadcasting:\n",
    "\n",
    "Broadcasting is the process of aligning arrays with different shapes and sizes so that they can be operated on element-wise. This is achieved by adding dimensions to the arrays as needed, so that they can be aligned."
   ]
  },
  {
   "cell_type": "code",
   "execution_count": 26,
   "id": "edbed310-f0e4-40db-aff9-6e432bed806f",
   "metadata": {},
   "outputs": [
    {
     "name": "stdout",
     "output_type": "stream",
     "text": [
      "[ 7  8  9 10 11]\n"
     ]
    }
   ],
   "source": [
    "import numpy as np\n",
    "\n",
    "# Create two arrays with different shapes\n",
    "array1 = np.array([1, 2, 3, 4, 5])\n",
    "array2 = np.array([6])\n",
    "\n",
    "# Perform element-wise addition using broadcasting\n",
    "result = array1 + array2\n",
    "\n",
    "print(result)"
   ]
  },
  {
   "cell_type": "markdown",
   "id": "89747010-634b-4e8f-9e0c-5f1972aba000",
   "metadata": {},
   "source": [
    "Q1>>Create a 3x3 NumPy array with random integers between 1 and 100. Then, interchange its rows and columns"
   ]
  },
  {
   "cell_type": "code",
   "execution_count": 28,
   "id": "0c95048f-a97e-4d90-ad49-de1280a1bcec",
   "metadata": {},
   "outputs": [
    {
     "name": "stdout",
     "output_type": "stream",
     "text": [
      "Original Array:\n",
      "[[44 16 18]\n",
      " [39 25 37]\n",
      " [74 38  2]]\n",
      "\n",
      "Transposed Array:\n",
      "[[44 39 74]\n",
      " [16 25 38]\n",
      " [18 37  2]]\n"
     ]
    }
   ],
   "source": [
    "import numpy as np\n",
    "\n",
    "# Create a 3x3 array with random integers between 1 and 100\n",
    "array = np.random.randint(1, 101, size=(3, 3))\n",
    "\n",
    "print(\"Original Array:\")\n",
    "print(array)\n",
    "\n",
    "# Interchange rows and columns (transpose the array)\n",
    "transposed_array = np.transpose(array)\n",
    "\n",
    "\n",
    "print(\"\\nTransposed Array:\")\n",
    "print(transposed_array)"
   ]
  },
  {
   "cell_type": "markdown",
   "id": "a1ca7a56-bd62-4949-ac83-4195a9b9655a",
   "metadata": {},
   "source": [
    "Q2>>Generate a 1D NumPy array with 10 elements. Reshape it into a 2x5 array, then into a 5x2 array."
   ]
  },
  {
   "cell_type": "code",
   "execution_count": 29,
   "id": "8650bad4-c93d-4d71-8622-621f9992fcff",
   "metadata": {},
   "outputs": [
    {
     "name": "stdout",
     "output_type": "stream",
     "text": [
      "Original 1D Array:\n",
      "[ 1  2  3  4  5  6  7  8  9 10]\n",
      "\n",
      "Reshaped 2x5 Array:\n",
      "[[ 1  2  3  4  5]\n",
      " [ 6  7  8  9 10]]\n",
      "\n",
      "Reshaped 5x2 Array:\n",
      "[[ 1  2]\n",
      " [ 3  4]\n",
      " [ 5  6]\n",
      " [ 7  8]\n",
      " [ 9 10]]\n"
     ]
    }
   ],
   "source": [
    "import numpy as np\n",
    "\n",
    "# Generate a 1D array with 10 elements\n",
    "array = np.arange(1, 11)\n",
    "\n",
    "print(\"Original 1D Array:\")\n",
    "print(array)\n",
    "\n",
    "# Reshape the array into a 2x5 array\n",
    "array_2x5 = array.reshape(2, 5)\n",
    "\n",
    "print(\"\\nReshaped 2x5 Array:\")\n",
    "print(array_2x5)\n",
    "\n",
    "# Reshape the array into a 5x2 array\n",
    "array_5x2 = array.reshape(5, 2)\n",
    "\n",
    "print(\"\\nReshaped 5x2 Array:\")\n",
    "print(array_5x2)\n"
   ]
  },
  {
   "cell_type": "markdown",
   "id": "8d84391c-eeff-45d0-a932-f8d4e49bf26a",
   "metadata": {},
   "source": [
    "Q3>>Create a 4x4 NumPy array with random float values. Add a border of zeros around it, resulting in a 6x6 array"
   ]
  },
  {
   "cell_type": "code",
   "execution_count": 30,
   "id": "9d44a4ac-a656-409d-8fdb-fec04b680c42",
   "metadata": {},
   "outputs": [
    {
     "name": "stdout",
     "output_type": "stream",
     "text": [
      "Original 4x4 Array:\n",
      "[[0.01740771 0.84165114 0.172406   0.92906747]\n",
      " [0.42371244 0.88042684 0.82036395 0.84400565]\n",
      " [0.14627433 0.24587066 0.38085141 0.92008963]\n",
      " [0.69441876 0.68322607 0.38204273 0.47747636]]\n",
      "\n",
      "Bordered 6x6 Array:\n",
      "[[0.         0.         0.         0.         0.         0.        ]\n",
      " [0.         0.01740771 0.84165114 0.172406   0.92906747 0.        ]\n",
      " [0.         0.42371244 0.88042684 0.82036395 0.84400565 0.        ]\n",
      " [0.         0.14627433 0.24587066 0.38085141 0.92008963 0.        ]\n",
      " [0.         0.69441876 0.68322607 0.38204273 0.47747636 0.        ]\n",
      " [0.         0.         0.         0.         0.         0.        ]]\n"
     ]
    }
   ],
   "source": [
    "import numpy as np\n",
    "\n",
    "# Create a 4x4 array with random float values\n",
    "array = np.random.rand(4, 4)\n",
    "\n",
    "print(\"Original 4x4 Array:\")\n",
    "print(array)\n",
    "\n",
    "# Add a border of zeros around the array\n",
    "bordered_array = np.pad(array, 1, mode='constant')\n",
    "\n",
    "print(\"\\nBordered 6x6 Array:\")\n",
    "print(bordered_array)"
   ]
  },
  {
   "cell_type": "markdown",
   "id": "e915e6d5-83e4-4b30-a3e7-22a47f28822b",
   "metadata": {},
   "source": [
    "Q4>>Using NumPy, create an array of integers from 10 to 60 with a step of 5."
   ]
  },
  {
   "cell_type": "code",
   "execution_count": 31,
   "id": "22ab36f9-6071-4055-b823-a8fcf55987a6",
   "metadata": {},
   "outputs": [
    {
     "name": "stdout",
     "output_type": "stream",
     "text": [
      "Array of Integers from 10 to 60 with a Step of 5:\n",
      "[10 15 20 25 30 35 40 45 50 55 60]\n"
     ]
    }
   ],
   "source": [
    "import numpy as np\n",
    "\n",
    "# Create an array of integers from 10 to 60 with a step of 5\n",
    "array = np.arange(10, 65, 5)\n",
    "\n",
    "print(\"Array of Integers from 10 to 60 with a Step of 5:\")\n",
    "print(array)"
   ]
  },
  {
   "cell_type": "markdown",
   "id": "5443f26e-b601-45fa-8cec-73c64e817b78",
   "metadata": {},
   "source": [
    "Q5>>Create a NumPy array of strings ['python', 'numpy', 'pandas']. Apply different case transformations\n",
    "(uppercase, lowercase, title case, etc.) to each element."
   ]
  },
  {
   "cell_type": "code",
   "execution_count": 32,
   "id": "a3b8d1ca-6988-4330-8d52-a9afee183a43",
   "metadata": {},
   "outputs": [
    {
     "name": "stdout",
     "output_type": "stream",
     "text": [
      "Original Array:\n",
      "['python' 'numpy' 'pandas']\n",
      "\n",
      "Uppercase Array:\n",
      "['PYTHON' 'NUMPY' 'PANDAS']\n",
      "\n",
      "Lowercase Array:\n",
      "['python' 'numpy' 'pandas']\n",
      "\n",
      "Titlecase Array:\n",
      "['Python' 'Numpy' 'Pandas']\n",
      "\n",
      "Capitalized Array:\n",
      "['Python' 'Numpy' 'Pandas']\n"
     ]
    }
   ],
   "source": [
    "import numpy as np\n",
    "\n",
    "# Create a NumPy array of strings\n",
    "array = np.array(['python', 'numpy', 'pandas'])\n",
    "\n",
    "# Apply different case transformations\n",
    "uppercase_array = np.char.upper(array)\n",
    "lowercase_array = np.char.lower(array)\n",
    "titlecase_array = np.char.title(array)\n",
    "capitalize_array = np.char.capitalize(array)\n",
    "\n",
    "# Print the results\n",
    "print(\"Original Array:\")\n",
    "print(array)\n",
    "\n",
    "print(\"\\nUppercase Array:\")\n",
    "print(uppercase_array)\n",
    "\n",
    "print(\"\\nLowercase Array:\")\n",
    "print(lowercase_array)\n",
    "\n",
    "print(\"\\nTitlecase Array:\")\n",
    "print(titlecase_array)\n",
    "\n",
    "print(\"\\nCapitalized Array:\")\n",
    "print(capitalize_array)\n"
   ]
  },
  {
   "cell_type": "markdown",
   "id": "14e7021c-aee4-45da-8fb8-8566cacd08e1",
   "metadata": {},
   "source": [
    "Q6>>Generate a NumPy array of words. Insert a space between each character of every word in the array"
   ]
  },
  {
   "cell_type": "code",
   "execution_count": 34,
   "id": "5cf57662-b91e-44cc-9991-0d9ce65b3270",
   "metadata": {},
   "outputs": [
    {
     "name": "stdout",
     "output_type": "stream",
     "text": [
      "Original Array:\n",
      "['hello' 'world' 'numpy' 'python']\n",
      "\n",
      "Array with Spaces Between Characters:\n",
      "['h e l l o' 'w o r l d' 'n u m p y' 'p y t h o n']\n"
     ]
    }
   ],
   "source": [
    "import numpy as np\n",
    "\n",
    "# Generate a NumPy array of words\n",
    "array = np.array(['hello', 'world', 'numpy', 'python'])\n",
    "\n",
    "# Insert a space between each character of every word\n",
    "spaced_array = np.array([' '.join(word) for word in array])\n",
    "\n",
    "print(\"Original Array:\")\n",
    "print(array)\n",
    "\n",
    "print(\"\\nArray with Spaces Between Characters:\")\n",
    "print(spaced_array)\n",
    "\n",
    "\n",
    "\n"
   ]
  },
  {
   "cell_type": "markdown",
   "id": "fdd90b0c-5bc4-4a46-a5a8-1233fbe51ebb",
   "metadata": {},
   "source": [
    "Q7>>Create two 2D NumPy arrays and perform element-wise addition, subtraction, multiplication, and division."
   ]
  },
  {
   "cell_type": "code",
   "execution_count": 35,
   "id": "869e8b74-a508-49b9-9d56-860a5382bc22",
   "metadata": {},
   "outputs": [
    {
     "name": "stdout",
     "output_type": "stream",
     "text": [
      "Array 1:\n",
      "[[1 2 3]\n",
      " [4 5 6]]\n",
      "\n",
      "Array 2:\n",
      "[[ 7  8  9]\n",
      " [10 11 12]]\n",
      "\n",
      "Element-wise Addition:\n",
      "[[ 8 10 12]\n",
      " [14 16 18]]\n",
      "\n",
      "Element-wise Subtraction:\n",
      "[[-6 -6 -6]\n",
      " [-6 -6 -6]]\n",
      "\n",
      "Element-wise Multiplication:\n",
      "[[ 7 16 27]\n",
      " [40 55 72]]\n",
      "\n",
      "Element-wise Division:\n",
      "[[0.14285714 0.25       0.33333333]\n",
      " [0.4        0.45454545 0.5       ]]\n"
     ]
    }
   ],
   "source": [
    "import numpy as np\n",
    "\n",
    "# Create two 2D NumPy arrays\n",
    "array1 = np.array([[1, 2, 3], [4, 5, 6]])\n",
    "array2 = np.array([[7, 8, 9], [10, 11, 12]])\n",
    "\n",
    "print(\"Array 1:\")\n",
    "print(array1)\n",
    "\n",
    "print(\"\\nArray 2:\")\n",
    "print(array2)\n",
    "\n",
    "# Perform element-wise addition\n",
    "addition = array1 + array2\n",
    "print(\"\\nElement-wise Addition:\")\n",
    "print(addition)\n",
    "\n",
    "# Perform element-wise subtraction\n",
    "subtraction = array1 - array2\n",
    "print(\"\\nElement-wise Subtraction:\")\n",
    "print(subtraction)\n",
    "\n",
    "# Perform element-wise multiplication\n",
    "multiplication = array1 * array2\n",
    "print(\"\\nElement-wise Multiplication:\")\n",
    "print(multiplication)\n",
    "\n",
    "# Perform element-wise division\n",
    "division = array1 / array2\n",
    "print(\"\\nElement-wise Division:\")\n",
    "print(division)"
   ]
  },
  {
   "cell_type": "markdown",
   "id": "a026b7cd-5d82-45a3-84fc-c12bb31d24c8",
   "metadata": {},
   "source": [
    "Q8>>Use NumPy to create a 5x5 identity matrix, then extract its diagonal elements."
   ]
  },
  {
   "cell_type": "code",
   "execution_count": 37,
   "id": "21330d80-4470-4293-af27-0d53a929d546",
   "metadata": {},
   "outputs": [
    {
     "name": "stdout",
     "output_type": "stream",
     "text": [
      "5x5 Identity Matrix:\n",
      "[[1. 0. 0. 0. 0.]\n",
      " [0. 1. 0. 0. 0.]\n",
      " [0. 0. 1. 0. 0.]\n",
      " [0. 0. 0. 1. 0.]\n",
      " [0. 0. 0. 0. 1.]]\n",
      "\n",
      "Diagonal Elements:\n",
      "[1. 1. 1. 1. 1.]\n"
     ]
    }
   ],
   "source": [
    "import numpy as np\n",
    "\n",
    "# Create a 5x5 identity matrix\n",
    "identity_matrix = np.eye(5)\n",
    "\n",
    "print(\"5x5 Identity Matrix:\")\n",
    "print(identity_matrix)\n",
    "\n",
    "# Extract the diagonal elements\n",
    "diagonal_elements = np.diag(identity_matrix)\n",
    "\n",
    "print(\"\\nDiagonal Elements:\")\n",
    "print(diagonal_elements)\n"
   ]
  },
  {
   "cell_type": "markdown",
   "id": "ea8a6d28-05b6-402a-abf0-c088a2a08245",
   "metadata": {},
   "source": [
    "Q9>>9. Generate a NumPy array of 100 random integers between 0 and 1000. Find and display all prime numbers in\n",
    "this array.\n"
   ]
  },
  {
   "cell_type": "code",
   "execution_count": 38,
   "id": "185e41b8-e7e1-4c44-9134-73334aa1080f",
   "metadata": {},
   "outputs": [
    {
     "name": "stdout",
     "output_type": "stream",
     "text": [
      "Random Array:\n",
      "[321 567 381 234 427  51 647 815 801 125 343 453  55 579 346 545 495 653\n",
      " 633 464 510 429 648 850 301 167 564 599 610 900 678 544 435 389 569 205\n",
      "  71 912 927 241 890 702 553 966 521 466 110 800 987 545 202 768 292 604\n",
      " 898 308 272 187 201 288  80 576 169 272 400 888 545 473 614 915 151 341\n",
      " 723 306 611 846 435 505 370 971  21 266  85 996 292 146  93 244 417   6\n",
      " 123 919 962 688 752  56 314 881 176 355]\n",
      "\n",
      "Prime Numbers:\n",
      "[np.int32(647), np.int32(653), np.int32(167), np.int32(599), np.int32(389), np.int32(569), np.int32(71), np.int32(241), np.int32(521), np.int32(151), np.int32(971), np.int32(919), np.int32(881)]\n"
     ]
    }
   ],
   "source": [
    "import numpy as np\n",
    "\n",
    "# Generate a NumPy array of 100 random integers between 0 and 1000\n",
    "random_array = np.random.randint(0, 1001, 100)\n",
    "\n",
    "print(\"Random Array:\")\n",
    "print(random_array)\n",
    "\n",
    "# Function to check if a number is prime\n",
    "def is_prime(n):\n",
    "    if n <= 1:\n",
    "        return False\n",
    "    if n == 2:\n",
    "        return True\n",
    "    if n % 2 == 0:\n",
    "        return False\n",
    "    max_divisor = int(np.sqrt(n)) + 1\n",
    "    for d in range(3, max_divisor, 2):\n",
    "        if n % d == 0:\n",
    "            return False\n",
    "    return True\n",
    "\n",
    "# Find and display all prime numbers in the array\n",
    "prime_numbers = [num for num in random_array if is_prime(num)]\n",
    "\n",
    "print(\"\\nPrime Numbers:\")\n",
    "print(prime_numbers)"
   ]
  },
  {
   "cell_type": "markdown",
   "id": "953c69e2-2c72-484e-80d6-de1d49f0c0a7",
   "metadata": {},
   "source": [
    "Q10>>Create a NumPy array representing daily temperatures for a month. Calculate and display the weekly\n",
    "averages."
   ]
  },
  {
   "cell_type": "code",
   "execution_count": 42,
   "id": "152a6a40-0338-4885-9cc8-affcd6c12672",
   "metadata": {},
   "outputs": [
    {
     "name": "stdout",
     "output_type": "stream",
     "text": [
      "Daily Temperatures:\n",
      "[20.91359437 26.060264   20.00207801 24.9411434  29.41544843 25.54280985\n",
      " 22.92359713 26.38710595 24.01734895 22.42258961 26.07238037 26.41331341\n",
      " 28.59227333 22.4545087  28.59176712 25.93635923 23.83478065 29.66975975\n",
      " 27.61538159 29.82533803 29.62927277 22.19440941 26.7681055  27.84738705\n",
      " 28.81912994 29.18603851 21.0024099  28.98423151 26.3963172  23.17657851]\n",
      "\n",
      "Weekly Averages:\n",
      "Week 1: 24.256990740749465\n",
      "Week 2: 25.194217190139945\n",
      "Week 3: 27.871808449865746\n",
      "Week 4: 26.400244544035825\n",
      "\n",
      "Average of the remaining days:\n",
      "24.78644785417108\n"
     ]
    }
   ],
   "source": [
    "import numpy as np\n",
    "\n",
    "# Create a NumPy array representing daily temperatures for a month\n",
    "# Let's assume the month has 30 days\n",
    "daily_temperatures = np.random.uniform(20, 30, 30)\n",
    "\n",
    "print(\"Daily Temperatures:\")\n",
    "print(daily_temperatures)\n",
    "\n",
    "# Calculate the weekly averages\n",
    "weeks = np.split(daily_temperatures[:28], 4)\n",
    "weekly_averages = [np.mean(week) for week in weeks]\n",
    "\n",
    "# Calculate the average of the remaining days\n",
    "remaining_days_average = np.mean(daily_temperatures[28:])\n",
    "\n",
    "print(\"\\nWeekly Averages:\")\n",
    "for i, average in enumerate(weekly_averages):\n",
    "    print(f\"Week {i+1}: {average}\")\n",
    "\n",
    "print(\"\\nAverage of the remaining days:\")\n",
    "print(remaining_days_average)"
   ]
  },
  {
   "cell_type": "code",
   "execution_count": null,
   "id": "f2a1159b-9624-48d2-a790-d5c97c6fb254",
   "metadata": {},
   "outputs": [],
   "source": []
  }
 ],
 "metadata": {
  "kernelspec": {
   "display_name": "Python 3 (ipykernel)",
   "language": "python",
   "name": "python3"
  },
  "language_info": {
   "codemirror_mode": {
    "name": "ipython",
    "version": 3
   },
   "file_extension": ".py",
   "mimetype": "text/x-python",
   "name": "python",
   "nbconvert_exporter": "python",
   "pygments_lexer": "ipython3",
   "version": "3.13.0"
  }
 },
 "nbformat": 4,
 "nbformat_minor": 5
}
